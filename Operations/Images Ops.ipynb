{
 "cells": [
  {
   "cell_type": "markdown",
   "id": "c95161b2",
   "metadata": {},
   "source": [
    "Installation \n",
    "\n",
    "!pip install openCV-python"
   ]
  },
  {
   "cell_type": "code",
   "execution_count": 1,
   "id": "157a908c",
   "metadata": {},
   "outputs": [],
   "source": [
    "import cv2"
   ]
  },
  {
   "cell_type": "code",
   "execution_count": 3,
   "id": "5484795d",
   "metadata": {},
   "outputs": [
    {
     "data": {
      "text/plain": [
       "array([[[28, 52, 58],\n",
       "        [22, 46, 52],\n",
       "        [24, 48, 54],\n",
       "        ...,\n",
       "        [21, 40, 45],\n",
       "        [22, 41, 46],\n",
       "        [24, 43, 48]],\n",
       "\n",
       "       [[29, 53, 59],\n",
       "        [24, 48, 54],\n",
       "        [25, 49, 55],\n",
       "        ...,\n",
       "        [26, 45, 50],\n",
       "        [23, 42, 47],\n",
       "        [21, 40, 45]],\n",
       "\n",
       "       [[28, 52, 58],\n",
       "        [25, 49, 55],\n",
       "        [26, 50, 56],\n",
       "        ...,\n",
       "        [20, 39, 44],\n",
       "        [18, 37, 42],\n",
       "        [16, 35, 40]],\n",
       "\n",
       "       ...,\n",
       "\n",
       "       [[20, 65, 76],\n",
       "        [25, 67, 79],\n",
       "        [22, 64, 77],\n",
       "        ...,\n",
       "        [25, 33, 32],\n",
       "        [24, 36, 36],\n",
       "        [24, 36, 40]],\n",
       "\n",
       "       [[25, 65, 77],\n",
       "        [28, 70, 82],\n",
       "        [23, 65, 78],\n",
       "        ...,\n",
       "        [24, 30, 29],\n",
       "        [25, 33, 33],\n",
       "        [24, 33, 37]],\n",
       "\n",
       "       [[25, 65, 77],\n",
       "        [27, 69, 81],\n",
       "        [25, 67, 80],\n",
       "        ...,\n",
       "        [24, 30, 29],\n",
       "        [25, 33, 33],\n",
       "        [24, 33, 37]]], dtype=uint8)"
      ]
     },
     "execution_count": 3,
     "metadata": {},
     "output_type": "execute_result"
    }
   ],
   "source": [
    "#Reading an image\n",
    "img = cv2.imread('Dhoni-8.jpg')\n",
    "img"
   ]
  },
  {
   "cell_type": "code",
   "execution_count": null,
   "id": "41da44bf",
   "metadata": {},
   "outputs": [
    {
     "data": {
      "text/plain": [
       "(675, 1200, 3)"
      ]
     },
     "execution_count": 38,
     "metadata": {},
     "output_type": "execute_result"
    }
   ],
   "source": [
    "# Image Properties\n",
    "height, width, channels = img.shape\n",
    "img.shape\n",
    "\n",
    "\n",
    "# height = 675\n",
    "# width = 1200\n",
    "# channels = 3 (RGB)"
   ]
  },
  {
   "cell_type": "code",
   "execution_count": 10,
   "id": "2dfdba54",
   "metadata": {},
   "outputs": [
    {
     "data": {
      "text/plain": [
       "array([[51, 45, 47, ..., 39, 40, 42],\n",
       "       [52, 47, 48, ..., 44, 41, 39],\n",
       "       [51, 48, 49, ..., 38, 36, 34],\n",
       "       ...,\n",
       "       [63, 66, 63, ..., 32, 35, 36],\n",
       "       [64, 69, 64, ..., 29, 32, 33],\n",
       "       [64, 68, 66, ..., 29, 32, 33]], dtype=uint8)"
      ]
     },
     "execution_count": 10,
     "metadata": {},
     "output_type": "execute_result"
    }
   ],
   "source": [
    "#color Conversion\n",
    "img_gray = cv2.cvtColor(img, cv2.COLOR_BGR2GRAY)\n",
    "img_gray"
   ]
  },
  {
   "cell_type": "code",
   "execution_count": 11,
   "id": "e45c0003",
   "metadata": {},
   "outputs": [
    {
     "data": {
      "text/plain": [
       "True"
      ]
     },
     "execution_count": 11,
     "metadata": {},
     "output_type": "execute_result"
    }
   ],
   "source": [
    "save = cv2.imwrite('Dhoni_gray.jpg', img_gray)\n",
    "save"
   ]
  },
  {
   "cell_type": "code",
   "execution_count": 14,
   "id": "336db6e8",
   "metadata": {},
   "outputs": [
    {
     "data": {
      "text/plain": [
       "array([[[26, 50, 56],\n",
       "        [24, 48, 54],\n",
       "        [23, 45, 50],\n",
       "        ...,\n",
       "        [23, 42, 47],\n",
       "        [21, 40, 45],\n",
       "        [23, 42, 47]],\n",
       "\n",
       "       [[27, 51, 57],\n",
       "        [25, 49, 55],\n",
       "        [23, 46, 52],\n",
       "        ...,\n",
       "        [20, 39, 44],\n",
       "        [25, 44, 49],\n",
       "        [22, 41, 46]],\n",
       "\n",
       "       [[27, 51, 57],\n",
       "        [26, 50, 56],\n",
       "        [23, 46, 52],\n",
       "        ...,\n",
       "        [22, 41, 45],\n",
       "        [21, 39, 44],\n",
       "        [17, 36, 41]],\n",
       "\n",
       "       ...,\n",
       "\n",
       "       [[22, 66, 77],\n",
       "        [22, 64, 77],\n",
       "        [24, 66, 78],\n",
       "        ...,\n",
       "        [25, 29, 30],\n",
       "        [25, 32, 32],\n",
       "        [24, 36, 38]],\n",
       "\n",
       "       [[26, 67, 79],\n",
       "        [23, 65, 78],\n",
       "        [19, 63, 74],\n",
       "        ...,\n",
       "        [21, 26, 27],\n",
       "        [24, 30, 29],\n",
       "        [24, 33, 35]],\n",
       "\n",
       "       [[25, 66, 78],\n",
       "        [25, 67, 80],\n",
       "        [20, 65, 76],\n",
       "        ...,\n",
       "        [20, 25, 26],\n",
       "        [24, 30, 29],\n",
       "        [24, 33, 35]]], dtype=uint8)"
      ]
     },
     "execution_count": 14,
     "metadata": {},
     "output_type": "execute_result"
    }
   ],
   "source": [
    "resize = cv2.resize(img, (700,700))\n",
    "resize"
   ]
  },
  {
   "cell_type": "code",
   "execution_count": 15,
   "id": "c650e3d2",
   "metadata": {},
   "outputs": [
    {
     "data": {
      "text/plain": [
       "True"
      ]
     },
     "execution_count": 15,
     "metadata": {},
     "output_type": "execute_result"
    }
   ],
   "source": [
    "save_1 = cv2.imwrite('Dhoni_resize.jpg', resize)\n",
    "save_1"
   ]
  },
  {
   "cell_type": "code",
   "execution_count": 21,
   "id": "4cc04cbe",
   "metadata": {},
   "outputs": [
    {
     "data": {
      "text/plain": [
       "array([[[255,   0,   0],\n",
       "        [255,   0,   0],\n",
       "        [255,   0,   0],\n",
       "        ...,\n",
       "        [  0, 255,   0],\n",
       "        [  0, 255,   0],\n",
       "        [  0, 255,   0]],\n",
       "\n",
       "       [[255,   0,   0],\n",
       "        [255,   0,   0],\n",
       "        [255,   0,   0],\n",
       "        ...,\n",
       "        [  0, 255,   0],\n",
       "        [  0, 255,   0],\n",
       "        [  0, 255,   0]],\n",
       "\n",
       "       [[255,   0,   0],\n",
       "        [255,   0,   0],\n",
       "        [255,   0,   0],\n",
       "        ...,\n",
       "        [  0, 255,   0],\n",
       "        [  0, 255,   0],\n",
       "        [  0, 255,   0]],\n",
       "\n",
       "       ...,\n",
       "\n",
       "       [[  0, 255,   0],\n",
       "        [  0, 255,   0],\n",
       "        [  0, 255,   0],\n",
       "        ...,\n",
       "        [255,   0,   0],\n",
       "        [255,   0,   0],\n",
       "        [255,   0,   0]],\n",
       "\n",
       "       [[  0, 255,   0],\n",
       "        [  0, 255,   0],\n",
       "        [  0, 255,   0],\n",
       "        ...,\n",
       "        [255,   0,   0],\n",
       "        [255,   0,   0],\n",
       "        [255,   0,   0]],\n",
       "\n",
       "       [[  0, 255,   0],\n",
       "        [  0, 255,   0],\n",
       "        [  0, 255,   0],\n",
       "        ...,\n",
       "        [255,   0,   0],\n",
       "        [255,   0,   0],\n",
       "        [255,   0,   0]]], dtype=uint8)"
      ]
     },
     "execution_count": 21,
     "metadata": {},
     "output_type": "execute_result"
    }
   ],
   "source": [
    "#Drawing \n",
    "\n",
    "#1.line\n",
    "\n",
    "line = cv2.line(img, (102, 320), (700,500), (255, 0, 0), 5)\n",
    "line"
   ]
  },
  {
   "cell_type": "code",
   "execution_count": 22,
   "id": "03b42256",
   "metadata": {},
   "outputs": [
    {
     "data": {
      "text/plain": [
       "True"
      ]
     },
     "execution_count": 22,
     "metadata": {},
     "output_type": "execute_result"
    }
   ],
   "source": [
    "line_img = cv2.imwrite('line_image.jpg', line)\n",
    "line_img"
   ]
  },
  {
   "cell_type": "code",
   "execution_count": 23,
   "id": "522990f5",
   "metadata": {},
   "outputs": [
    {
     "data": {
      "text/plain": [
       "array([[51, 45, 47, ..., 39, 40, 42],\n",
       "       [52, 47, 48, ..., 44, 41, 39],\n",
       "       [51, 48, 49, ..., 38, 36, 34],\n",
       "       ...,\n",
       "       [63, 66, 63, ..., 32, 35, 36],\n",
       "       [64, 69, 64, ..., 29, 32, 33],\n",
       "       [64, 68, 66, ..., 29, 32, 33]], dtype=uint8)"
      ]
     },
     "execution_count": 27,
     "metadata": {},
     "output_type": "execute_result"
    }
   ],
   "source": [
    "# 2.Rectangle\n",
    "rectangle = cv2.rectangle(img_gray, (100, 100), (500, 500), (255,255.255), 3)\n",
    "rectangle"
   ]
  },
  {
   "cell_type": "code",
   "execution_count": 24,
   "id": "905cc4a0",
   "metadata": {},
   "outputs": [
    {
     "data": {
      "text/plain": [
       "True"
      ]
     },
     "execution_count": 28,
     "metadata": {},
     "output_type": "execute_result"
    }
   ],
   "source": [
    "rectangle_img = cv2.imwrite('rectangle_image.jpg', rectangle)\n",
    "rectangle_img"
   ]
  },
  {
   "cell_type": "code",
   "execution_count": null,
   "id": "d6d6b089",
   "metadata": {},
   "outputs": [
    {
     "data": {
      "text/plain": [
       "array([[51, 45, 47, ..., 39, 40, 42],\n",
       "       [52, 47, 48, ..., 44, 41, 39],\n",
       "       [51, 48, 49, ..., 38, 36, 34],\n",
       "       ...,\n",
       "       [63, 66, 63, ..., 32, 35, 36],\n",
       "       [64, 69, 64, ..., 29, 32, 33],\n",
       "       [64, 68, 66, ..., 29, 32, 33]], dtype=uint8)"
      ]
     },
     "execution_count": 33,
     "metadata": {},
     "output_type": "execute_result"
    }
   ],
   "source": [
    "#3.Circle\n",
    "circle = cv2.circle(img_gray, (500, 500), 100, (0, 255, 0), 5)\n",
    "circle"
   ]
  },
  {
   "cell_type": "code",
   "execution_count": null,
   "id": "41eb21ee",
   "metadata": {},
   "outputs": [
    {
     "data": {
      "text/plain": [
       "True"
      ]
     },
     "execution_count": 34,
     "metadata": {},
     "output_type": "execute_result"
    }
   ],
   "source": [
    "circle_img = cv2.imwrite('circle_image.jpg', circle)\n",
    "circle_img"
   ]
  },
  {
   "cell_type": "code",
   "execution_count": 42,
   "id": "bc8bf436",
   "metadata": {},
   "outputs": [
    {
     "data": {
      "text/plain": [
       "array([[[  0, 255,   0],\n",
       "        [  0, 255,   0],\n",
       "        [  0, 255,   0],\n",
       "        ...,\n",
       "        [  0, 255,   0],\n",
       "        [  0, 255,   0],\n",
       "        [  0, 255,   0]],\n",
       "\n",
       "       [[  0, 255,   0],\n",
       "        [  0, 255,   0],\n",
       "        [  0, 255,   0],\n",
       "        ...,\n",
       "        [  0, 255,   0],\n",
       "        [  0, 255,   0],\n",
       "        [  0, 255,   0]],\n",
       "\n",
       "       [[  0, 255,   0],\n",
       "        [  0, 255,   0],\n",
       "        [  0, 255,   0],\n",
       "        ...,\n",
       "        [  0, 255,   0],\n",
       "        [  0, 255,   0],\n",
       "        [  0, 255,   0]],\n",
       "\n",
       "       ...,\n",
       "\n",
       "       [[  0, 255,   0],\n",
       "        [  0, 255,   0],\n",
       "        [  0, 255,   0],\n",
       "        ...,\n",
       "        [  3,  76,  96],\n",
       "        [  0, 255,   0],\n",
       "        [  0, 255,   0]],\n",
       "\n",
       "       [[  0, 255,   0],\n",
       "        [  0, 255,   0],\n",
       "        [  0, 255,   0],\n",
       "        ...,\n",
       "        [  0, 255,   0],\n",
       "        [  0, 255,   0],\n",
       "        [  0, 255,   0]],\n",
       "\n",
       "       [[  0, 255,   0],\n",
       "        [  0, 255,   0],\n",
       "        [  0, 255,   0],\n",
       "        ...,\n",
       "        [  0, 255,   0],\n",
       "        [  0, 255,   0],\n",
       "        [  0, 255,   0]]], dtype=uint8)"
      ]
     },
     "execution_count": 42,
     "metadata": {},
     "output_type": "execute_result"
    }
   ],
   "source": [
    "#Crop   \n",
    "crop = img[100:500, 100:500]\n",
    "crop    "
   ]
  },
  {
   "cell_type": "code",
   "execution_count": 43,
   "id": "5c319ef1",
   "metadata": {},
   "outputs": [
    {
     "data": {
      "text/plain": [
       "array([[[244,   2,   3],\n",
       "        [245,   2,   3],\n",
       "        [246,   2,   2],\n",
       "        ...,\n",
       "        [  1, 248,   1],\n",
       "        [  1, 248,   1],\n",
       "        [  1, 248,   1]],\n",
       "\n",
       "       [[241,   3,   4],\n",
       "        [241,   3,   3],\n",
       "        [242,   3,   3],\n",
       "        ...,\n",
       "        [  1, 246,   2],\n",
       "        [  1, 246,   2],\n",
       "        [  1, 246,   2]],\n",
       "\n",
       "       [[229,   6,   6],\n",
       "        [230,   6,   6],\n",
       "        [233,   5,   6],\n",
       "        ...,\n",
       "        [  2, 239,   3],\n",
       "        [  2, 238,   4],\n",
       "        [  2, 237,   4]],\n",
       "\n",
       "       ...,\n",
       "\n",
       "       [[  5, 216,  16],\n",
       "        [  5, 217,  16],\n",
       "        [  4, 221,  14],\n",
       "        ...,\n",
       "        [224,   5,   5],\n",
       "        [220,   5,   5],\n",
       "        [219,   5,   5]],\n",
       "\n",
       "       [[  3, 229,  10],\n",
       "        [  3, 230,  10],\n",
       "        [  3, 233,   9],\n",
       "        ...,\n",
       "        [236,   3,   3],\n",
       "        [234,   3,   3],\n",
       "        [233,   3,   3]],\n",
       "\n",
       "       [[  2, 234,   8],\n",
       "        [  2, 235,   8],\n",
       "        [  2, 237,   7],\n",
       "        ...,\n",
       "        [240,   2,   2],\n",
       "        [239,   2,   2],\n",
       "        [238,   3,   3]]], dtype=uint8)"
      ]
     },
     "execution_count": 43,
     "metadata": {},
     "output_type": "execute_result"
    }
   ],
   "source": [
    "#Blurring\n",
    "blur = cv2.GaussianBlur(img, (15, 15), 0)       \n",
    "blur"
   ]
  },
  {
   "cell_type": "code",
   "execution_count": 44,
   "id": "5510d703",
   "metadata": {},
   "outputs": [
    {
     "data": {
      "text/plain": [
       "True"
      ]
     },
     "execution_count": 44,
     "metadata": {},
     "output_type": "execute_result"
    }
   ],
   "source": [
    "blur_img = cv2.imwrite('blur_image.jpg', blur)\n",
    "blur_img"
   ]
  },
  {
   "cell_type": "code",
   "execution_count": null,
   "id": "5a0dc86d",
   "metadata": {},
   "outputs": [],
   "source": []
  }
 ],
 "metadata": {
  "kernelspec": {
   "display_name": "Python 3",
   "language": "python",
   "name": "python3"
  },
  "language_info": {
   "codemirror_mode": {
    "name": "ipython",
    "version": 3
   },
   "file_extension": ".py",
   "mimetype": "text/x-python",
   "name": "python",
   "nbconvert_exporter": "python",
   "pygments_lexer": "ipython3",
   "version": "3.12.4"
  }
 },
 "nbformat": 4,
 "nbformat_minor": 5
}
